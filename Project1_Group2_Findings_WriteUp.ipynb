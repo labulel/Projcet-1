{
 "cells": [
  {
   "cell_type": "markdown",
   "metadata": {},
   "source": [
    "Project 1 Group 2 Findings Write-up"
   ]
  },
  {
   "cell_type": "markdown",
   "metadata": {},
   "source": [
    "Background: Group 2's Project 1 examines a scenario where a new NBA team owner is looking for potential team rosters to achieve the goal of 1)winning the NBA league (ie, owning a championship team) or 2)making it into the playoffs. "
   ]
  },
  {
   "cell_type": "markdown",
   "metadata": {},
   "source": [
    "Question 1: Determine the number of wins to be a competitive team?"
   ]
  },
  {
   "cell_type": "markdown",
   "metadata": {},
   "source": [
    "- Used NBA standing records from 2016 to 2020\n",
    "- Rmoved 2020 records to due incomplete season becasue of covid-19\n",
    "- Average number of wins to get first place in the standings is 66.25 or 67 wins\n",
    "- Average number of wins to get 16th place in the standings (minmuin number of wins to get into the playsoffs) is 41.0 or 41 wins\n",
    "- All teams need to have a win share greater than 41 wins."
   ]
  },
  {
   "cell_type": "markdown",
   "metadata": {},
   "source": [
    "Question 2: How to assemble a roster that will win the championship? "
   ]
  },
  {
   "cell_type": "code",
   "execution_count": null,
   "metadata": {},
   "outputs": [],
   "source": []
  }
 ],
 "metadata": {
  "kernelspec": {
   "display_name": "Python [conda env:PythonData]",
   "language": "python",
   "name": "conda-env-PythonData-py"
  },
  "language_info": {
   "codemirror_mode": {
    "name": "ipython",
    "version": 3
   },
   "file_extension": ".py",
   "mimetype": "text/x-python",
   "name": "python",
   "nbconvert_exporter": "python",
   "pygments_lexer": "ipython3",
   "version": "3.6.10"
  }
 },
 "nbformat": 4,
 "nbformat_minor": 4
}
