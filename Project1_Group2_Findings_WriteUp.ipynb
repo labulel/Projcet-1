{
 "cells": [
  {
   "cell_type": "markdown",
   "metadata": {},
   "source": [
    "Project 1 Group 2 Findings Write-up"
   ]
  },
  {
   "cell_type": "markdown",
   "metadata": {},
   "source": [
    "Background: Group 2's Project 1 examines a scenario where a new NBA team owner is looking for potential team rosters to achieve the goal of winning the NBA championship."
   ]
  },
  {
   "cell_type": "markdown",
   "metadata": {},
   "source": [
    "Question 1: Determine the number of wins to be a competitive team?"
   ]
  },
  {
   "cell_type": "markdown",
   "metadata": {},
   "source": [
    "- Used NBA standing records from 2016 to 2020\n",
    "- Removed 2020 records to due incomplete season becasue of covid-19\n",
    "- Average number of wins to get first place in the standings is 66.25 or 67 wins\n",
    "- Average number of wins to get 16th place in the standings (minmuin number of wins to get into the playsoffs) is 41.0 or 41 wins\n",
    "- All teams need to have a win share greater than 41 wins."
   ]
  },
  {
   "cell_type": "markdown",
   "metadata": {},
   "source": [
    "Question 2: How to assemble a roster that will win the championship? "
   ]
  },
  {
   "cell_type": "markdown",
   "metadata": {},
   "source": [
    "In order to pick our team we needed a reliable metric to evaluate the players. We decided to use the statistic 'win share' (WS)  as an overall measure of productivity. WS represents how many wins that player contributes to their team over the course of the regular season. Win share is the combination of offensive (OWS) and defensive win shares (DWS), a summary of the their individual offensive and defensive contribution respectively. \n",
    "\n",
    "Average WS over the last five seasons were taken to filter players with a single great season or missed time for injury, and ranked the players accordingly. Starters were seperated from bench players by minutes played, and only two players of each position could be selected (one starter and one bench player). \n",
    "\n",
    "This gave us the ability to filter the players by position and designate starters and bench players to create our rosters. Players were filtered by overall win shares, defensive win shares, offensive win share, and win shares per million. This returned us four different rosters representing the best over all players, all-defence, all-offence, and most contract friendly players. With these \"prototype\" type players identified, we were able to create a bench mark by which other players could be compared to. A regression analysis created between win shares and salary provides further information in picking players for a future franchise if the sought after player was not able to be signed. "
   ]
  },
  {
   "cell_type": "markdown",
   "metadata": {},
   "source": [
    "Team 1: Dream Team\n",
    "\n",
    "Methodlogy of selecting the players: calculated average WS of each player in the last five years (2016-2020), grouped active player stats by position, and selected the player with the highest average win share at each position. To select bench players, we filtered the active player stats for players who played between 1,400 and 1,600 minutes of the entire season, and followed the same methodology to fill the roster. "
   ]
  },
  {
   "cell_type": "markdown",
   "metadata": {},
   "source": [
    "Team 2: Offensive Team\n",
    "\n",
    "Methodlogy of selecting the players: calculated average OWS (Offensive Win Share) of each player in the last five years (2016-2020), grouped active player stats by position, and selected the player with the highest average win share at each position. To select bench players, we filtered the active player stats for players who played between 1,400 and 1,600 minutes of the entire season, and followed the same methodology to fill the roster."
   ]
  },
  {
   "cell_type": "markdown",
   "metadata": {},
   "source": [
    "Team 3: Defensive Team\n",
    "\n",
    "Methodlogy of selecting the players: calculated average DWS (Defensive Win Share) of each player in the last five years (2016-2020), grouped active player stats by position, and selected the player with the highest average win share at each position. To select bench players, we filtered the active player stats for players who played between 1,400 and 1,600 minutes of the entire season, and followed the same methodology to fill the roster."
   ]
  },
  {
   "cell_type": "markdown",
   "metadata": {},
   "source": [
    "Team 4: MoneyBall Team\n",
    "\n",
    "Methodlogy of selecting the players: filtered active player stats for year 2020 only. Calculated WS/million salary of each player, grouped player stats by position, and selected the player with the highest WS/million salary at each position. To select bench players, we filtered the active player stats for players who played between 1,400 and 1,600 minutes of the entire season, and followed the same methodology to fill the roster."
   ]
  },
  {
   "cell_type": "markdown",
   "metadata": {},
   "source": [
    "Salary and Win Share Correlation Analysis\n",
    "\n",
    "We analyzd the correlation between WS and salary in active player stats dataframe by running the Pearson Regression analysis. OUr calculated correlation is 0.55, which exhibited moderate level of correlation between win share and player salary. We then plotted a scatter chart and ran linear regression between win share (y) and salary (x). We calculated the r-squared value to be 0.298, which means the line of best fit (y = 0.13*x + 1.21) explains approx. 30% of the data points."
   ]
  },
  {
   "cell_type": "markdown",
   "metadata": {},
   "source": [
    "Summary Analysis \n",
    "\n",
    "Cumulative Win Share by Position Comparison\n",
    "Our summary analysis of cumulative team win share by position shows that the Dream Team and Offensive Team will most likely win the championship with cumulative win share of () and () respectively. The Money Ball team will likely make it into the play-offs with cumulative win share of 44.5. Defensive Team likely will not make it into the play-offs with cumulative win share of (). \n",
    "\n",
    "Cumulative Team Salary by Position Comparison\n",
    "Our summary analysis of cumulative team salary by position shows that The Dream Team and Offensive Team will cost similar amounts, whereas Defensive Team ...."
   ]
  }
 ],
 "metadata": {
  "kernelspec": {
   "display_name": "Python [conda env:.conda-PythonData] *",
   "language": "python",
   "name": "conda-env-.conda-PythonData-py"
  },
  "language_info": {
   "codemirror_mode": {
    "name": "ipython",
    "version": 3
   },
   "file_extension": ".py",
   "mimetype": "text/x-python",
   "name": "python",
   "nbconvert_exporter": "python",
   "pygments_lexer": "ipython3",
   "version": "3.8.3"
  }
 },
 "nbformat": 4,
 "nbformat_minor": 4
}
